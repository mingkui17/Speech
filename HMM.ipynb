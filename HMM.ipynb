{
 "cells": [
  {
   "cell_type": "code",
   "execution_count": 255,
   "metadata": {
    "colab": {
     "base_uri": "https://localhost:8080/"
    },
    "executionInfo": {
     "elapsed": 1017,
     "status": "ok",
     "timestamp": 1652242327056,
     "user": {
      "displayName": "Đỗ Ngọc Huyền",
      "userId": "00039570932125982060"
     },
     "user_tz": -420
    },
    "id": "BSXj97wntM89",
    "outputId": "193f04cd-e774-4808-eee0-1e506be35fbb"
   },
   "outputs": [
    {
     "name": "stdout",
     "output_type": "stream",
     "text": [
      "70\n"
     ]
    }
   ],
   "source": [
    "import os\n",
    "class_names = ['A', 'B', 'ban', 'len', 'nhay', 'phai', 'trai', 'xuong', 'sil']\n",
    "states = [3, 3, 6, 6, 6, 6, 6, 9, 6]\n",
    "\n",
    "from google.colab import drive\n",
    "drive.mount('/content/drive')\n",
    "\n",
    "length = 0\n",
    "for d in class_names:\n",
    "    length += len(os.listdir(\"/content/drive/MyDrive/Colab Notebooks/data/\" + d))\n",
    "print(length)"
   ]
  },
  {
   "cell_type": "code",
   "execution_count": 256,
   "metadata": {
    "colab": {
     "base_uri": "https://localhost:8080/"
    },
    "executionInfo": {
     "elapsed": 4243,
     "status": "ok",
     "timestamp": 1652242332153,
     "user": {
      "displayName": "Đỗ Ngọc Huyền",
      "userId": "00039570932125982060"
     },
     "user_tz": -420
    },
    "id": "O4XSlJLTu9_b",
    "outputId": "ea688354-f40e-466f-c1a2-94488741c8ba"
   },
   "outputs": [
    {
     "name": "stdout",
     "output_type": "stream",
     "text": [
      "Requirement already satisfied: hmmlearn in /usr/local/lib/python3.7/dist-packages (0.2.7)\n",
      "Requirement already satisfied: scipy>=0.19 in /usr/local/lib/python3.7/dist-packages (from hmmlearn) (1.4.1)\n",
      "Requirement already satisfied: scikit-learn>=0.16 in /usr/local/lib/python3.7/dist-packages (from hmmlearn) (1.0.2)\n",
      "Requirement already satisfied: numpy>=1.10 in /usr/local/lib/python3.7/dist-packages (from hmmlearn) (1.21.6)\n",
      "Requirement already satisfied: joblib>=0.11 in /usr/local/lib/python3.7/dist-packages (from scikit-learn>=0.16->hmmlearn) (1.1.0)\n",
      "Requirement already satisfied: threadpoolctl>=2.0.0 in /usr/local/lib/python3.7/dist-packages (from scikit-learn>=0.16->hmmlearn) (3.1.0)\n"
     ]
    }
   ],
   "source": [
    "# install hmmlearn\n",
    "!pip install hmmlearn"
   ]
  },
  {
   "cell_type": "code",
   "execution_count": 257,
   "metadata": {
    "executionInfo": {
     "elapsed": 21,
     "status": "ok",
     "timestamp": 1652242332155,
     "user": {
      "displayName": "Đỗ Ngọc Huyền",
      "userId": "00039570932125982060"
     },
     "user_tz": -420
    },
    "id": "q59HBcOXtpNW"
   },
   "outputs": [],
   "source": [
    "import librosa\n",
    "import numpy as np\n",
    "import os\n",
    "import math\n",
    "from sklearn.cluster import KMeans\n",
    "import hmmlearn.hmm\n",
    "\n",
    "def get_mfcc(file_path):\n",
    "    y, sr = librosa.load(file_path) # read .wav file\n",
    "    hop_length = math.floor(sr*0.010) # 10ms hop\n",
    "    win_length = math.floor(sr*0.025) # 25ms frame\n",
    "    # mfcc is 12 x T matrix\n",
    "    mfcc = librosa.feature.mfcc(\n",
    "        y, sr, n_mfcc=12, n_fft=1024,\n",
    "        hop_length=hop_length, win_length=win_length)\n",
    "    # substract mean from mfcc --> normalize mfcc\n",
    "    mfcc = mfcc - np.mean(mfcc, axis=1).reshape((-1,1)) \n",
    "    # delta feature 1st order and 2nd order\n",
    "    delta1 = librosa.feature.delta(mfcc, order=1)\n",
    "    delta2 = librosa.feature.delta(mfcc, order=2)\n",
    "    # X is 36 x T\n",
    "    X = np.concatenate([mfcc, delta1, delta2], axis=0) # O^r\n",
    "    # return T x 36 (transpose of X)\n",
    "    return X.T # hmmlearn use T x N matrix"
   ]
  },
  {
   "cell_type": "code",
   "execution_count": 258,
   "metadata": {
    "executionInfo": {
     "elapsed": 1139,
     "status": "ok",
     "timestamp": 1652242333275,
     "user": {
      "displayName": "Đỗ Ngọc Huyền",
      "userId": "00039570932125982060"
     },
     "user_tz": -420
    },
    "id": "ajwH6Hejus_h"
   },
   "outputs": [],
   "source": [
    "all_data = {}\n",
    "all_labels = {}\n",
    "for cname in class_names:\n",
    "    file_paths = [os.path.join(\"/content/drive/MyDrive/Colab Notebooks/data/\", cname, i) for i in os.listdir(os.path.join('/content/drive/MyDrive/Colab Notebooks/data/', cname)) if i.endswith('.wav')]\n",
    "    data = [get_mfcc(file_path) for file_path in file_paths]\n",
    "    all_data[cname] = data\n",
    "    all_labels[cname] = [class_names.index(cname) for i in range(len(file_paths))]"
   ]
  },
  {
   "cell_type": "code",
   "execution_count": 259,
   "metadata": {
    "executionInfo": {
     "elapsed": 10,
     "status": "ok",
     "timestamp": 1652242333275,
     "user": {
      "displayName": "Đỗ Ngọc Huyền",
      "userId": "00039570932125982060"
     },
     "user_tz": -420
    },
    "id": "2GB8zfJSvT0e"
   },
   "outputs": [],
   "source": [
    "from sklearn.model_selection import train_test_split\n",
    "\n",
    "X = {'train': {}, 'test': {}}\n",
    "y = {'train': {}, 'test': {}}\n",
    "for cname in class_names:\n",
    "    x_train, x_test, _, y_test = train_test_split(\n",
    "        all_data[cname], all_labels[cname], \n",
    "        test_size = 0.33, \n",
    "        random_state=42\n",
    "    )\n",
    "    X['train'][cname] = x_train\n",
    "    X['test'][cname] = x_test\n",
    "    y['test'][cname] = y_test"
   ]
  },
  {
   "cell_type": "code",
   "execution_count": 260,
   "metadata": {
    "colab": {
     "base_uri": "https://localhost:8080/"
    },
    "executionInfo": {
     "elapsed": 10,
     "status": "ok",
     "timestamp": 1652242333276,
     "user": {
      "displayName": "Đỗ Ngọc Huyền",
      "userId": "00039570932125982060"
     },
     "user_tz": -420
    },
    "id": "1Me2PBHNvigN",
    "outputId": "2196552d-51cc-4f1e-e320-29e983702473"
   },
   "outputs": [
    {
     "name": "stdout",
     "output_type": "stream",
     "text": [
      "A 6 4 4\n",
      "B 2 2 2\n",
      "ban 4 2 2\n",
      "len 5 3 3\n",
      "nhay 4 2 2\n",
      "phai 6 4 4\n",
      "trai 5 3 3\n",
      "xuong 5 3 3\n",
      "sil 6 4 4\n"
     ]
    }
   ],
   "source": [
    "for cname in class_names:\n",
    "    print(cname, len(X['train'][cname]), len(X['test'][cname]), len(y['test'][cname]))"
   ]
  },
  {
   "cell_type": "code",
   "execution_count": 261,
   "metadata": {
    "colab": {
     "base_uri": "https://localhost:8080/"
    },
    "executionInfo": {
     "elapsed": 1214,
     "status": "ok",
     "timestamp": 1652242334481,
     "user": {
      "displayName": "Đỗ Ngọc Huyền",
      "userId": "00039570932125982060"
     },
     "user_tz": -420
    },
    "id": "c5wup0cjvlGP",
    "outputId": "91a6275a-5022-4e3c-99a0-daada3f83b4f"
   },
   "outputs": [
    {
     "name": "stdout",
     "output_type": "stream",
     "text": [
      "A\n",
      "[[0.5 0.5 0. ]\n",
      " [0.  0.5 0.5]\n",
      " [0.  0.  1. ]]\n"
     ]
    },
    {
     "name": "stderr",
     "output_type": "stream",
     "text": [
      "         1      -23455.4786             +nan\n",
      "         2      -22266.7440       +1188.7346\n",
      "         3      -22106.3447        +160.3993\n",
      "         4      -22014.9525         +91.3922\n",
      "         5      -21953.2806         +61.6718\n",
      "         6      -21873.6699         +79.6107\n",
      "         7      -21858.1170         +15.5529\n",
      "         8      -21852.2345          +5.8824\n",
      "         9      -21840.6397         +11.5948\n",
      "        10      -21836.8126          +3.8271\n",
      "        11      -21808.5306         +28.2820\n",
      "        12      -21790.9270         +17.6036\n",
      "        13      -21775.2814         +15.6456\n",
      "        14      -21753.5140         +21.7674\n",
      "        15      -21753.3454          +0.1686\n",
      "        16      -21753.2652          +0.0802\n",
      "        17      -21753.2228          +0.0424\n",
      "        18      -21753.2053          +0.0175\n",
      "        19      -21753.1996          +0.0057\n",
      "         1       -6559.2925             +nan\n",
      "         2       -6072.2340        +487.0585\n",
      "         3       -5963.3288        +108.9052\n",
      "         4       -5855.0458        +108.2829\n",
      "         5       -5829.3713         +25.6746\n",
      "         6       -5806.8215         +22.5497\n",
      "         7       -5806.7026          +0.1189\n",
      "         8       -5805.8531          +0.8495\n",
      "         9       -5791.2685         +14.5846\n",
      "        10       -5778.7553         +12.5132\n",
      "        11       -5721.5266         +57.2287\n",
      "        12       -5934.2532        -212.7266\n"
     ]
    },
    {
     "name": "stdout",
     "output_type": "stream",
     "text": [
      "B\n",
      "[[0.5 0.5 0. ]\n",
      " [0.  0.5 0.5]\n",
      " [0.  0.  1. ]]\n",
      "ban\n",
      "[[0.5 0.5 0.  0.  0.  0. ]\n",
      " [0.  0.5 0.5 0.  0.  0. ]\n",
      " [0.  0.  0.5 0.5 0.  0. ]\n",
      " [0.  0.  0.  0.5 0.5 0. ]\n",
      " [0.  0.  0.  0.  0.5 0.5]\n",
      " [0.  0.  0.  0.  0.  1. ]]\n",
      "len\n",
      "[[0.5 0.5 0.  0.  0.  0. ]\n",
      " [0.  0.5 0.5 0.  0.  0. ]\n",
      " [0.  0.  0.5 0.5 0.  0. ]\n",
      " [0.  0.  0.  0.5 0.5 0. ]\n",
      " [0.  0.  0.  0.  0.5 0.5]\n",
      " [0.  0.  0.  0.  0.  1. ]]\n"
     ]
    },
    {
     "name": "stderr",
     "output_type": "stream",
     "text": [
      "         1      -16995.5439             +nan\n",
      "         2      -15771.6017       +1223.9422\n",
      "         3      -15700.5102         +71.0915\n",
      "         4      -15655.3404         +45.1698\n",
      "         5      -15614.8517         +40.4886\n",
      "         6      -15596.8598         +17.9920\n",
      "         7      -15580.4780         +16.3818\n",
      "         8      -15577.5964          +2.8816\n",
      "         9      -15576.8794          +0.7170\n",
      "        10      -15576.6359          +0.2435\n",
      "        11      -15576.5818          +0.0542\n",
      "        12      -15576.5746          +0.0072\n",
      "         1      -20608.6840             +nan\n",
      "         2      -19058.3285       +1550.3555\n",
      "         3      -19284.2590        -225.9305\n",
      "         1      -16720.2237             +nan\n",
      "         2      -15521.3525       +1198.8712\n",
      "         3      -15321.0157        +200.3368\n",
      "         4      -15463.9663        -142.9506\n"
     ]
    },
    {
     "name": "stdout",
     "output_type": "stream",
     "text": [
      "nhay\n",
      "[[0.5 0.5 0.  0.  0.  0. ]\n",
      " [0.  0.5 0.5 0.  0.  0. ]\n",
      " [0.  0.  0.5 0.5 0.  0. ]\n",
      " [0.  0.  0.  0.5 0.5 0. ]\n",
      " [0.  0.  0.  0.  0.5 0.5]\n",
      " [0.  0.  0.  0.  0.  1. ]]\n",
      "phai\n",
      "[[0.5 0.5 0.  0.  0.  0. ]\n",
      " [0.  0.5 0.5 0.  0.  0. ]\n",
      " [0.  0.  0.5 0.5 0.  0. ]\n",
      " [0.  0.  0.  0.5 0.5 0. ]\n",
      " [0.  0.  0.  0.  0.5 0.5]\n",
      " [0.  0.  0.  0.  0.  1. ]]\n"
     ]
    },
    {
     "name": "stderr",
     "output_type": "stream",
     "text": [
      "         1      -27652.0185             +nan\n",
      "         2      -25775.6762       +1876.3423\n",
      "         3      -25735.3368         +40.3394\n",
      "         4      -25712.0957         +23.2411\n",
      "         5      -25705.9522          +6.1435\n",
      "         6      -25700.6238          +5.3284\n",
      "         7      -25698.8341          +1.7898\n",
      "         8      -25697.5761          +1.2580\n",
      "         9      -25697.3419          +0.2342\n",
      "        10      -25696.5215          +0.8204\n",
      "        11      -25693.2611          +3.2605\n",
      "        12      -25687.4783          +5.7828\n",
      "        13      -25685.8344          +1.6438\n",
      "        14      -25684.1310          +1.7034\n",
      "        15      -25682.6129          +1.5181\n",
      "        16      -25681.4833          +1.1296\n",
      "        17      -25680.9661          +0.5173\n",
      "        18      -25680.6367          +0.3293\n",
      "        19      -25680.3295          +0.3072\n",
      "        20      -25680.0381          +0.2914\n",
      "        21      -25679.8521          +0.1860\n",
      "        22      -25679.7585          +0.0936\n",
      "        23      -25679.7067          +0.0518\n",
      "        24      -25679.6783          +0.0284\n",
      "        25      -25679.6619          +0.0164\n",
      "        26      -25679.6513          +0.0107\n",
      "        27      -25679.6439          +0.0073\n"
     ]
    },
    {
     "name": "stdout",
     "output_type": "stream",
     "text": [
      "trai\n",
      "[[0.5 0.5 0.  0.  0.  0. ]\n",
      " [0.  0.5 0.5 0.  0.  0. ]\n",
      " [0.  0.  0.5 0.5 0.  0. ]\n",
      " [0.  0.  0.  0.5 0.5 0. ]\n",
      " [0.  0.  0.  0.  0.5 0.5]\n",
      " [0.  0.  0.  0.  0.  1. ]]\n",
      "xuong\n",
      "[[0.5 0.5 0.  0.  0.  0.  0.  0.  0. ]\n",
      " [0.  0.5 0.5 0.  0.  0.  0.  0.  0. ]\n",
      " [0.  0.  0.5 0.5 0.  0.  0.  0.  0. ]\n",
      " [0.  0.  0.  0.5 0.5 0.  0.  0.  0. ]\n",
      " [0.  0.  0.  0.  0.5 0.5 0.  0.  0. ]\n",
      " [0.  0.  0.  0.  0.  0.5 0.5 0.  0. ]\n",
      " [0.  0.  0.  0.  0.  0.  0.5 0.5 0. ]\n",
      " [0.  0.  0.  0.  0.  0.  0.  0.5 0.5]\n",
      " [0.  0.  0.  0.  0.  0.  0.  0.  1. ]]\n"
     ]
    },
    {
     "name": "stderr",
     "output_type": "stream",
     "text": [
      "         1      -21427.7108             +nan\n",
      "         2      -19659.6041       +1768.1068\n",
      "         3      -19360.8479        +298.7561\n",
      "         4      -19346.5718         +14.2761\n",
      "         5      -19341.0131          +5.5587\n",
      "         6      -19329.7732         +11.2399\n",
      "         7      -19316.2188         +13.5544\n",
      "         8      -19289.7175         +26.5013\n",
      "         9      -19284.5959          +5.1216\n",
      "        10      -19284.5858          +0.0100\n",
      "        11      -19284.5847          +0.0011\n",
      "         1      -24457.7535             +nan\n",
      "         2      -22058.5928       +2399.1607\n",
      "         3      -21942.1900        +116.4028\n",
      "         4      -21927.5440         +14.6460\n",
      "         5      -21913.6246         +13.9194\n",
      "         6      -21900.6345         +12.9901\n",
      "         7      -21881.5357         +19.0988\n",
      "         8      -21863.4201         +18.1156\n",
      "         9      -21842.4875         +20.9326\n",
      "        10      -21824.3259         +18.1617\n",
      "        11      -21822.3968          +1.9290\n",
      "        12      -21821.8190          +0.5778\n",
      "        13      -21821.1653          +0.6537\n",
      "        14      -21820.9831          +0.1822\n",
      "        15      -21820.8970          +0.0861\n",
      "        16      -21820.7421          +0.1549\n",
      "        17      -21820.3645          +0.3776\n",
      "        18      -21819.5111          +0.8534\n",
      "        19      -21818.9058          +0.6053\n",
      "        20      -21818.8391          +0.0667\n",
      "        21      -21818.7812          +0.0580\n",
      "        22      -21818.5830          +0.1982\n",
      "        23      -21817.4233          +1.1597\n",
      "        24      -21815.8540          +1.5694\n",
      "        25      -21815.8296          +0.0243\n",
      "        26      -21815.8297          -0.0001\n"
     ]
    },
    {
     "name": "stdout",
     "output_type": "stream",
     "text": [
      "sil\n",
      "[[0.5 0.5 0.  0.  0.  0. ]\n",
      " [0.  0.5 0.5 0.  0.  0. ]\n",
      " [0.  0.  0.5 0.5 0.  0. ]\n",
      " [0.  0.  0.  0.5 0.5 0. ]\n",
      " [0.  0.  0.  0.  0.5 0.5]\n",
      " [0.  0.  0.  0.  0.  1. ]]\n"
     ]
    },
    {
     "name": "stderr",
     "output_type": "stream",
     "text": [
      "         1      -23841.0590             +nan\n",
      "         2      -23319.9954        +521.0636\n",
      "         3      -23192.5446        +127.4509\n",
      "         4      -23140.8829         +51.6617\n",
      "         5      -23104.6846         +36.1983\n",
      "         6      -23089.7417         +14.9429\n",
      "         7      -23086.4060          +3.3357\n",
      "         8      -23086.5312          -0.1253\n"
     ]
    }
   ],
   "source": [
    "import hmmlearn.hmm as hmm\n",
    "\n",
    "model = {}\n",
    "for idx, cname in enumerate(class_names):\n",
    "    start_prob = np.full(states[idx], 0.0)\n",
    "    start_prob[0] = 1.0\n",
    "    trans_matrix = np.full((states[idx], states[idx]), 0.0)\n",
    "    p = 0.5\n",
    "    np.fill_diagonal(trans_matrix, p)\n",
    "    np.fill_diagonal(trans_matrix[0:, 1:], 1 - p)\n",
    "    trans_matrix[-1, -1] = 1.0\n",
    "    \n",
    "    #trans matrix\n",
    "    print(cname)\n",
    "    print(trans_matrix) \n",
    "\n",
    "    model[cname] = hmm.GaussianHMM(\n",
    "        n_components=states[idx], \n",
    "        verbose=True, \n",
    "        n_iter=300, \n",
    "        startprob_prior=start_prob, \n",
    "        transmat_prior=trans_matrix,\n",
    "        params='stmc',\n",
    "        init_params='mc',\n",
    "        random_state=42\n",
    "    )\n",
    "\n",
    "    model[cname].fit(X=np.vstack(X['train'][cname]), lengths=[x.shape[0] for x in X['train'][cname]])"
   ]
  },
  {
   "cell_type": "code",
   "execution_count": 262,
   "metadata": {
    "executionInfo": {
     "elapsed": 877,
     "status": "ok",
     "timestamp": 1652242335348,
     "user": {
      "displayName": "Đỗ Ngọc Huyền",
      "userId": "00039570932125982060"
     },
     "user_tz": -420
    },
    "id": "na3_lFiUvoMR"
   },
   "outputs": [],
   "source": [
    "import pickle\n",
    "\n",
    "# save model\n",
    "for cname in class_names:\n",
    "    name = f'models_train\\model_{cname}.pkl'\n",
    "    with open(name, 'wb') as file: \n",
    "        pickle.dump(model[cname], file)"
   ]
  },
  {
   "cell_type": "code",
   "execution_count": 263,
   "metadata": {
    "executionInfo": {
     "elapsed": 23,
     "status": "ok",
     "timestamp": 1652242335349,
     "user": {
      "displayName": "Đỗ Ngọc Huyền",
      "userId": "00039570932125982060"
     },
     "user_tz": -420
    },
    "id": "mYIURBs5z-Co"
   },
   "outputs": [],
   "source": [
    "import pickle, os\n",
    "import numpy as np\n",
    "\n",
    "from sklearn.metrics import classification_report"
   ]
  },
  {
   "cell_type": "code",
   "execution_count": 264,
   "metadata": {
    "colab": {
     "base_uri": "https://localhost:8080/"
    },
    "executionInfo": {
     "elapsed": 24,
     "status": "ok",
     "timestamp": 1652242335350,
     "user": {
      "displayName": "Đỗ Ngọc Huyền",
      "userId": "00039570932125982060"
     },
     "user_tz": -420
    },
    "id": "J-L01-jz0AzC",
    "outputId": "4e08b5f1-981d-4024-e2c7-2fe5fc9f5f3d"
   },
   "outputs": [
    {
     "name": "stdout",
     "output_type": "stream",
     "text": [
      "1.0\n",
      "0.6666666666666666\n",
      "0.75\n",
      "0.8181818181818182\n",
      "0.8461538461538461\n",
      "0.8823529411764706\n",
      "0.9\n",
      "0.9130434782608695\n",
      "0.9259259259259259\n",
      "[0, 0, 0, 0, 1, 1, 2, 2, 3, 3, 3, 4, 4, 5, 5, 5, 5, 6, 6, 6, 7, 7, 7, 8, 8, 8, 8]\n",
      "[0, 0, 0, 0, 3, 4, 2, 2, 3, 3, 3, 4, 4, 5, 5, 5, 5, 6, 6, 6, 7, 7, 7, 8, 8, 8, 8]\n"
     ]
    }
   ],
   "source": [
    "y_true = []\n",
    "y_pred = []\n",
    "for cname in class_names:\n",
    "    for mfcc, target in zip(X['test'][cname], y['test'][cname]):\n",
    "        scores = [model[cname].score(mfcc) for cname in class_names]\n",
    "        pred = np.argmax(scores)\n",
    "        y_pred.append(pred)\n",
    "        y_true.append(target)\n",
    "    print((np.array(y_true) == np.array(y_pred)).sum()/len(y_true))\n",
    "print(y_true)\n",
    "print(y_pred)"
   ]
  },
  {
   "cell_type": "code",
   "execution_count": 265,
   "metadata": {
    "colab": {
     "base_uri": "https://localhost:8080/"
    },
    "executionInfo": {
     "elapsed": 23,
     "status": "ok",
     "timestamp": 1652242335351,
     "user": {
      "displayName": "Đỗ Ngọc Huyền",
      "userId": "00039570932125982060"
     },
     "user_tz": -420
    },
    "id": "PiGv21xP0DXZ",
    "outputId": "40cdb588-349a-49d4-dda2-a351df2e3fab"
   },
   "outputs": [
    {
     "name": "stdout",
     "output_type": "stream",
     "text": [
      "              precision    recall  f1-score   support\n",
      "\n",
      "           A       1.00      1.00      1.00         4\n",
      "           B       0.00      0.00      0.00         2\n",
      "         ban       1.00      1.00      1.00         2\n",
      "         len       0.75      1.00      0.86         3\n",
      "        nhay       0.67      1.00      0.80         2\n",
      "        phai       1.00      1.00      1.00         4\n",
      "        trai       1.00      1.00      1.00         3\n",
      "       xuong       1.00      1.00      1.00         3\n",
      "         sil       1.00      1.00      1.00         4\n",
      "\n",
      "    accuracy                           0.93        27\n",
      "   macro avg       0.82      0.89      0.85        27\n",
      "weighted avg       0.87      0.93      0.90        27\n",
      "\n"
     ]
    },
    {
     "name": "stderr",
     "output_type": "stream",
     "text": [
      "/usr/local/lib/python3.7/dist-packages/sklearn/metrics/_classification.py:1318: UndefinedMetricWarning: Precision and F-score are ill-defined and being set to 0.0 in labels with no predicted samples. Use `zero_division` parameter to control this behavior.\n",
      "  _warn_prf(average, modifier, msg_start, len(result))\n",
      "/usr/local/lib/python3.7/dist-packages/sklearn/metrics/_classification.py:1318: UndefinedMetricWarning: Precision and F-score are ill-defined and being set to 0.0 in labels with no predicted samples. Use `zero_division` parameter to control this behavior.\n",
      "  _warn_prf(average, modifier, msg_start, len(result))\n",
      "/usr/local/lib/python3.7/dist-packages/sklearn/metrics/_classification.py:1318: UndefinedMetricWarning: Precision and F-score are ill-defined and being set to 0.0 in labels with no predicted samples. Use `zero_division` parameter to control this behavior.\n",
      "  _warn_prf(average, modifier, msg_start, len(result))\n"
     ]
    }
   ],
   "source": [
    "report = classification_report(y_true, y_pred, target_names=class_names)\n",
    "print(report)"
   ]
  },
  {
   "cell_type": "code",
   "execution_count": 268,
   "metadata": {
    "executionInfo": {
     "elapsed": 542,
     "status": "ok",
     "timestamp": 1652245091329,
     "user": {
      "displayName": "Đỗ Ngọc Huyền",
      "userId": "00039570932125982060"
     },
     "user_tz": -420
    },
    "id": "lox_uuSz16kz"
   },
   "outputs": [],
   "source": [
    "#loadmodels\n",
    "import pickle\n",
    "\n",
    "model_train = {}\n",
    "for key in class_names:\n",
    "    name = f\"/content/models_train\\model_{key}.pkl\"\n",
    "    with open(name, 'rb') as file:\n",
    "        model_train[key] = pickle.load(file)"
   ]
  },
  {
   "cell_type": "code",
   "execution_count": 267,
   "metadata": {
    "colab": {
     "base_uri": "https://localhost:8080/"
    },
    "executionInfo": {
     "elapsed": 21,
     "status": "ok",
     "timestamp": 1652242335352,
     "user": {
      "displayName": "Đỗ Ngọc Huyền",
      "userId": "00039570932125982060"
     },
     "user_tz": -420
    },
    "id": "E22DcaLy1_CU",
    "outputId": "075ee7f4-9770-49ac-b117-4b853c83f1a7"
   },
   "outputs": [
    {
     "name": "stdout",
     "output_type": "stream",
     "text": [
      "{'A': GaussianHMM(init_params='mc', n_components=3, n_iter=300, random_state=42,\n",
      "            startprob_prior=array([1., 0., 0.]),\n",
      "            transmat_prior=array([[0.5, 0.5, 0. ],\n",
      "       [0. , 0.5, 0.5],\n",
      "       [0. , 0. , 1. ]]),\n",
      "            verbose=True), 'B': GaussianHMM(init_params='mc', n_components=3, n_iter=300, random_state=42,\n",
      "            startprob_prior=array([1., 0., 0.]),\n",
      "            transmat_prior=array([[0.5, 0.5, 0. ],\n",
      "       [0. , 0.5, 0.5],\n",
      "       [0. , 0. , 1. ]]),\n",
      "            verbose=True), 'ban': GaussianHMM(init_params='mc', n_components=6, n_iter=300, random_state=42,\n",
      "            startprob_prior=array([1., 0., 0., 0., 0., 0.]),\n",
      "            transmat_prior=array([[0.5, 0.5, 0. , 0. , 0. , 0. ],\n",
      "       [0. , 0.5, 0.5, 0. , 0. , 0. ],\n",
      "       [0. , 0. , 0.5, 0.5, 0. , 0. ],\n",
      "       [0. , 0. , 0. , 0.5, 0.5, 0. ],\n",
      "       [0. , 0. , 0. , 0. , 0.5, 0.5],\n",
      "       [0. , 0. , 0. , 0. , 0. , 1. ]]),\n",
      "            verbose=True), 'len': GaussianHMM(init_params='mc', n_components=6, n_iter=300, random_state=42,\n",
      "            startprob_prior=array([1., 0., 0., 0., 0., 0.]),\n",
      "            transmat_prior=array([[0.5, 0.5, 0. , 0. , 0. , 0. ],\n",
      "       [0. , 0.5, 0.5, 0. , 0. , 0. ],\n",
      "       [0. , 0. , 0.5, 0.5, 0. , 0. ],\n",
      "       [0. , 0. , 0. , 0.5, 0.5, 0. ],\n",
      "       [0. , 0. , 0. , 0. , 0.5, 0.5],\n",
      "       [0. , 0. , 0. , 0. , 0. , 1. ]]),\n",
      "            verbose=True), 'nhay': GaussianHMM(init_params='mc', n_components=6, n_iter=300, random_state=42,\n",
      "            startprob_prior=array([1., 0., 0., 0., 0., 0.]),\n",
      "            transmat_prior=array([[0.5, 0.5, 0. , 0. , 0. , 0. ],\n",
      "       [0. , 0.5, 0.5, 0. , 0. , 0. ],\n",
      "       [0. , 0. , 0.5, 0.5, 0. , 0. ],\n",
      "       [0. , 0. , 0. , 0.5, 0.5, 0. ],\n",
      "       [0. , 0. , 0. , 0. , 0.5, 0.5],\n",
      "       [0. , 0. , 0. , 0. , 0. , 1. ]]),\n",
      "            verbose=True), 'phai': GaussianHMM(init_params='mc', n_components=6, n_iter=300, random_state=42,\n",
      "            startprob_prior=array([1., 0., 0., 0., 0., 0.]),\n",
      "            transmat_prior=array([[0.5, 0.5, 0. , 0. , 0. , 0. ],\n",
      "       [0. , 0.5, 0.5, 0. , 0. , 0. ],\n",
      "       [0. , 0. , 0.5, 0.5, 0. , 0. ],\n",
      "       [0. , 0. , 0. , 0.5, 0.5, 0. ],\n",
      "       [0. , 0. , 0. , 0. , 0.5, 0.5],\n",
      "       [0. , 0. , 0. , 0. , 0. , 1. ]]),\n",
      "            verbose=True), 'trai': GaussianHMM(init_params='mc', n_components=6, n_iter=300, random_state=42,\n",
      "            startprob_prior=array([1., 0., 0., 0., 0., 0.]),\n",
      "            transmat_prior=array([[0.5, 0.5, 0. , 0. , 0. , 0. ],\n",
      "       [0. , 0.5, 0.5, 0. , 0. , 0. ],\n",
      "       [0. , 0. , 0.5, 0.5, 0. , 0. ],\n",
      "       [0. , 0. , 0. , 0.5, 0.5, 0. ],\n",
      "       [0. , 0. , 0. , 0. , 0.5, 0.5],\n",
      "       [0. , 0. , 0. , 0. , 0. , 1. ]]),\n",
      "            verbose=True), 'xuong': GaussianHMM(init_params='mc', n_components=9, n_iter=300, random_state=42,\n",
      "            startprob_prior=array([1., 0., 0., 0., 0., 0., 0., 0., 0.]),\n",
      "            transmat_prior=array([[0.5, 0.5, 0. , 0. , 0. , 0. , 0. , 0. , 0. ],\n",
      "       [0. , 0.5, 0.5, 0. , 0. , 0. , 0. , 0. , 0. ],\n",
      "       [0. , 0. , 0.5, 0.5, 0. , 0. , 0. , 0. , 0. ],\n",
      "       [0. , 0. , 0. , 0.5, 0.5, 0. , 0. , 0. , 0. ],\n",
      "       [0. , 0. , 0. , 0. , 0.5, 0.5, 0. , 0. , 0. ],\n",
      "       [0. , 0. , 0. , 0. , 0. , 0.5, 0.5, 0. , 0. ],\n",
      "       [0. , 0. , 0. , 0. , 0. , 0. , 0.5, 0.5, 0. ],\n",
      "       [0. , 0. , 0. , 0. , 0. , 0. , 0. , 0.5, 0.5],\n",
      "       [0. , 0. , 0. , 0. , 0. , 0. , 0. , 0. , 1. ]]),\n",
      "            verbose=True), 'sil': GaussianHMM(init_params='mc', n_components=6, n_iter=300, random_state=42,\n",
      "            startprob_prior=array([1., 0., 0., 0., 0., 0.]),\n",
      "            transmat_prior=array([[0.5, 0.5, 0. , 0. , 0. , 0. ],\n",
      "       [0. , 0.5, 0.5, 0. , 0. , 0. ],\n",
      "       [0. , 0. , 0.5, 0.5, 0. , 0. ],\n",
      "       [0. , 0. , 0. , 0.5, 0.5, 0. ],\n",
      "       [0. , 0. , 0. , 0. , 0.5, 0.5],\n",
      "       [0. , 0. , 0. , 0. , 0. , 1. ]]),\n",
      "            verbose=True)}\n"
     ]
    }
   ],
   "source": [
    "print(model_train)"
   ]
  },
  {
   "cell_type": "code",
   "execution_count": 267,
   "metadata": {
    "executionInfo": {
     "elapsed": 13,
     "status": "ok",
     "timestamp": 1652242335352,
     "user": {
      "displayName": "Đỗ Ngọc Huyền",
      "userId": "00039570932125982060"
     },
     "user_tz": -420
    },
    "id": "nChuG3TM2tUS"
   },
   "outputs": [],
   "source": []
  }
 ],
 "metadata": {
  "colab": {
   "authorship_tag": "ABX9TyP32HuXj9gEZ2I0LvUYZWLA",
   "mount_file_id": "1LZ4z1hmDsWnaujrAd5CbwkMOQwDZslvS",
   "name": "HMM.ipynb",
   "provenance": []
  },
  "kernelspec": {
   "display_name": "Python 3 (ipykernel)",
   "language": "python",
   "name": "python3"
  },
  "language_info": {
   "codemirror_mode": {
    "name": "ipython",
    "version": 3
   },
   "file_extension": ".py",
   "mimetype": "text/x-python",
   "name": "python",
   "nbconvert_exporter": "python",
   "pygments_lexer": "ipython3",
   "version": "3.9.7"
  }
 },
 "nbformat": 4,
 "nbformat_minor": 1
}
